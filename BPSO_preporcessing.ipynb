{
 "cells": [
  {
   "cell_type": "code",
   "execution_count": 13,
   "metadata": {},
   "outputs": [],
   "source": [
    "import numpy as np\n",
    "import pandas as pd\n",
    "from collections import defaultdict\n",
    "%matplotlib inline"
   ]
  },
  {
   "cell_type": "code",
   "execution_count": 22,
   "metadata": {},
   "outputs": [],
   "source": [
    "defaultindex  = defaultdict(int)\n",
    "with open('dataset.txt','r') as f:\n",
    "    for line in f.readlines():\n",
    "        words=line.strip().split(',')\n",
    "        for word in words: \n",
    "            if(defaultindex.get(word,None) is None):                                \n",
    "                defaultindex[word]=1           \n",
    "    f.close()"
   ]
  },
  {
   "cell_type": "code",
   "execution_count": 23,
   "metadata": {},
   "outputs": [],
   "source": [
    "dataset = []\n",
    "with open('dataset.txt','r') as f:\n",
    "    for line in f.readlines():\n",
    "        words=line.strip().split(',')\n",
    "        tmp=[]\n",
    "        for key in defaultindex.keys():    \n",
    "            if(key in words):\n",
    "                tmp.append(1)\n",
    "            else:\n",
    "                tmp.append(0)\n",
    "        dataset.append(tmp)\n",
    "            "
   ]
  },
  {
   "cell_type": "code",
   "execution_count": 29,
   "metadata": {},
   "outputs": [],
   "source": [
    "df = pd.DataFrame(dataset, columns=list(defaultindex.keys()))"
   ]
  },
  {
   "cell_type": "code",
   "execution_count": 31,
   "metadata": {},
   "outputs": [],
   "source": [
    "df.to_csv('market.csv',index=False)"
   ]
  },
  {
   "cell_type": "code",
   "execution_count": 11,
   "metadata": {},
   "outputs": [],
   "source": [
    "df = pd.read_csv('./market.csv')"
   ]
  },
  {
   "cell_type": "code",
   "execution_count": 6,
   "metadata": {},
   "outputs": [
    {
     "data": {
      "text/html": [
       "<div>\n",
       "<style scoped>\n",
       "    .dataframe tbody tr th:only-of-type {\n",
       "        vertical-align: middle;\n",
       "    }\n",
       "\n",
       "    .dataframe tbody tr th {\n",
       "        vertical-align: top;\n",
       "    }\n",
       "\n",
       "    .dataframe thead th {\n",
       "        text-align: right;\n",
       "    }\n",
       "</style>\n",
       "<table border=\"1\" class=\"dataframe\">\n",
       "  <thead>\n",
       "    <tr style=\"text-align: right;\">\n",
       "      <th></th>\n",
       "      <th>citrus fruit</th>\n",
       "      <th>semi-finished bread</th>\n",
       "      <th>margarine</th>\n",
       "      <th>ready soups</th>\n",
       "      <th>tropical fruit</th>\n",
       "      <th>yogurt</th>\n",
       "      <th>coffee</th>\n",
       "      <th>whole milk</th>\n",
       "      <th>pip fruit</th>\n",
       "      <th>cream cheese</th>\n",
       "      <th>...</th>\n",
       "      <th>baby food</th>\n",
       "      <th>pudding powder</th>\n",
       "      <th>tidbits</th>\n",
       "      <th>whisky</th>\n",
       "      <th>frozen fruits</th>\n",
       "      <th>bags</th>\n",
       "      <th>cooking chocolate</th>\n",
       "      <th>sound storage medium</th>\n",
       "      <th>kitchen utensil</th>\n",
       "      <th>preservation products</th>\n",
       "    </tr>\n",
       "  </thead>\n",
       "  <tbody>\n",
       "    <tr>\n",
       "      <th>0</th>\n",
       "      <td>1</td>\n",
       "      <td>1</td>\n",
       "      <td>1</td>\n",
       "      <td>1</td>\n",
       "      <td>0</td>\n",
       "      <td>0</td>\n",
       "      <td>0</td>\n",
       "      <td>0</td>\n",
       "      <td>0</td>\n",
       "      <td>0</td>\n",
       "      <td>...</td>\n",
       "      <td>0</td>\n",
       "      <td>0</td>\n",
       "      <td>0</td>\n",
       "      <td>0</td>\n",
       "      <td>0</td>\n",
       "      <td>0</td>\n",
       "      <td>0</td>\n",
       "      <td>0</td>\n",
       "      <td>0</td>\n",
       "      <td>0</td>\n",
       "    </tr>\n",
       "    <tr>\n",
       "      <th>1</th>\n",
       "      <td>0</td>\n",
       "      <td>0</td>\n",
       "      <td>0</td>\n",
       "      <td>0</td>\n",
       "      <td>1</td>\n",
       "      <td>1</td>\n",
       "      <td>1</td>\n",
       "      <td>0</td>\n",
       "      <td>0</td>\n",
       "      <td>0</td>\n",
       "      <td>...</td>\n",
       "      <td>0</td>\n",
       "      <td>0</td>\n",
       "      <td>0</td>\n",
       "      <td>0</td>\n",
       "      <td>0</td>\n",
       "      <td>0</td>\n",
       "      <td>0</td>\n",
       "      <td>0</td>\n",
       "      <td>0</td>\n",
       "      <td>0</td>\n",
       "    </tr>\n",
       "    <tr>\n",
       "      <th>2</th>\n",
       "      <td>0</td>\n",
       "      <td>0</td>\n",
       "      <td>0</td>\n",
       "      <td>0</td>\n",
       "      <td>0</td>\n",
       "      <td>0</td>\n",
       "      <td>0</td>\n",
       "      <td>1</td>\n",
       "      <td>0</td>\n",
       "      <td>0</td>\n",
       "      <td>...</td>\n",
       "      <td>0</td>\n",
       "      <td>0</td>\n",
       "      <td>0</td>\n",
       "      <td>0</td>\n",
       "      <td>0</td>\n",
       "      <td>0</td>\n",
       "      <td>0</td>\n",
       "      <td>0</td>\n",
       "      <td>0</td>\n",
       "      <td>0</td>\n",
       "    </tr>\n",
       "    <tr>\n",
       "      <th>3</th>\n",
       "      <td>0</td>\n",
       "      <td>0</td>\n",
       "      <td>0</td>\n",
       "      <td>0</td>\n",
       "      <td>0</td>\n",
       "      <td>1</td>\n",
       "      <td>0</td>\n",
       "      <td>0</td>\n",
       "      <td>1</td>\n",
       "      <td>1</td>\n",
       "      <td>...</td>\n",
       "      <td>0</td>\n",
       "      <td>0</td>\n",
       "      <td>0</td>\n",
       "      <td>0</td>\n",
       "      <td>0</td>\n",
       "      <td>0</td>\n",
       "      <td>0</td>\n",
       "      <td>0</td>\n",
       "      <td>0</td>\n",
       "      <td>0</td>\n",
       "    </tr>\n",
       "    <tr>\n",
       "      <th>4</th>\n",
       "      <td>0</td>\n",
       "      <td>0</td>\n",
       "      <td>0</td>\n",
       "      <td>0</td>\n",
       "      <td>0</td>\n",
       "      <td>0</td>\n",
       "      <td>0</td>\n",
       "      <td>1</td>\n",
       "      <td>0</td>\n",
       "      <td>0</td>\n",
       "      <td>...</td>\n",
       "      <td>0</td>\n",
       "      <td>0</td>\n",
       "      <td>0</td>\n",
       "      <td>0</td>\n",
       "      <td>0</td>\n",
       "      <td>0</td>\n",
       "      <td>0</td>\n",
       "      <td>0</td>\n",
       "      <td>0</td>\n",
       "      <td>0</td>\n",
       "    </tr>\n",
       "  </tbody>\n",
       "</table>\n",
       "<p>5 rows × 171 columns</p>\n",
       "</div>"
      ],
      "text/plain": [
       "   citrus fruit  semi-finished bread  margarine  ready soups  tropical fruit  \\\n",
       "0             1                    1          1            1               0   \n",
       "1             0                    0          0            0               1   \n",
       "2             0                    0          0            0               0   \n",
       "3             0                    0          0            0               0   \n",
       "4             0                    0          0            0               0   \n",
       "\n",
       "   yogurt  coffee  whole milk  pip fruit  cream cheese   ...  baby food  \\\n",
       "0       0       0           0          0              0  ...          0   \n",
       "1       1       1           0          0              0  ...          0   \n",
       "2       0       0           1          0              0  ...          0   \n",
       "3       1       0           0          1              1  ...          0   \n",
       "4       0       0           1          0              0  ...          0   \n",
       "\n",
       "   pudding powder  tidbits  whisky  frozen fruits  bags  cooking chocolate  \\\n",
       "0               0        0       0              0     0                  0   \n",
       "1               0        0       0              0     0                  0   \n",
       "2               0        0       0              0     0                  0   \n",
       "3               0        0       0              0     0                  0   \n",
       "4               0        0       0              0     0                  0   \n",
       "\n",
       "   sound storage medium  kitchen utensil  preservation products  \n",
       "0                     0                0                      0  \n",
       "1                     0                0                      0  \n",
       "2                     0                0                      0  \n",
       "3                     0                0                      0  \n",
       "4                     0                0                      0  \n",
       "\n",
       "[5 rows x 171 columns]"
      ]
     },
     "execution_count": 6,
     "metadata": {},
     "output_type": "execute_result"
    }
   ],
   "source": [
    "df.head()"
   ]
  },
  {
   "cell_type": "code",
   "execution_count": 12,
   "metadata": {},
   "outputs": [
    {
     "name": "stdout",
     "output_type": "stream",
     "text": [
      "<class 'pandas.core.frame.DataFrame'>\n",
      "RangeIndex: 9835 entries, 0 to 9834\n",
      "Columns: 171 entries, citrus fruit to preservation products\n",
      "dtypes: int64(171)\n",
      "memory usage: 12.8 MB\n"
     ]
    }
   ],
   "source": [
    "df.info()"
   ]
  },
  {
   "cell_type": "markdown",
   "metadata": {},
   "source": [
    "item codification in the particule"
   ]
  },
  {
   "cell_type": "code",
   "execution_count": 15,
   "metadata": {},
   "outputs": [
    {
     "data": {
      "image/png": "[encoded data removed]",
      "text/plain": [
       "<IPython.core.display.Image object>"
      ]
     },
     "execution_count": 15,
     "metadata": {},
     "output_type": "execute_result"
    }
   ],
   "source": [
    "from IPython.display import Image\n",
    "Image(filename='item.png')"
   ]
  },
  {
   "cell_type": "code",
   "execution_count": 3,
   "metadata": {},
   "outputs": [],
   "source": [
    "N=2*len(df.columns)"
   ]
  },
  {
   "cell_type": "code",
   "execution_count": 4,
   "metadata": {},
   "outputs": [],
   "source": [
    "np.random.seed(42)"
   ]
  },
  {
   "cell_type": "code",
   "execution_count": 5,
   "metadata": {},
   "outputs": [],
   "source": [
    "import time"
   ]
  },
  {
   "cell_type": "code",
   "execution_count": 290,
   "metadata": {},
   "outputs": [
    {
     "data": {
      "text/plain": [
       "citrus fruit             0.082766\n",
       "semi-finished bread      0.017692\n",
       "margarine                0.058566\n",
       "ready soups              0.001830\n",
       "tropical fruit           0.104931\n",
       "                           ...   \n",
       "bags                     0.000407\n",
       "cooking chocolate        0.002542\n",
       "sound storage medium     0.000102\n",
       "kitchen utensil          0.000407\n",
       "preservation products    0.000203\n",
       "Name: mean, Length: 171, dtype: float64"
      ]
     },
     "execution_count": 290,
     "metadata": {},
     "output_type": "execute_result"
    }
   ],
   "source": [
    "df.describe().loc[\"mean\",:]"
   ]
  },
  {
   "cell_type": "code",
   "execution_count": 6,
   "metadata": {},
   "outputs": [],
   "source": [
    "df_size=len(df)"
   ]
  },
  {
   "cell_type": "code",
   "execution_count": 15,
   "metadata": {},
   "outputs": [
    {
     "name": "stdout",
     "output_type": "stream",
     "text": [
      "--- 3.5728847980499268 seconds ---\n"
     ]
    }
   ],
   "source": [
    "\n",
    "\n",
    "particules=[np.random.choice(2,N,p=[0.98, 0.02]) for _ in range(5000)]\n",
    "regle=[]\n",
    "premis=[]\n",
    "bestParticules=[]\n",
    "start_time = time.time()\n",
    "for particule in particules:\n",
    "    if(not validParticule(particule)):\n",
    "        continue\n",
    "    \n",
    "    supportRegle =np.array([False for _ in range(df_size)])\n",
    "    supportPremis =np.array([False for _ in range(df_size)])\n",
    "    \n",
    "    enter=False\n",
    "\n",
    "    for i in range(0,N,2):\n",
    "        index=round(i/2)\n",
    "    \n",
    "        if(particule[i]==1):\n",
    "            if(particule[i+1]==0): \n",
    "                #enter the if (particule[i]==1) for the first time\n",
    "                if(not enter):\n",
    "                    # for calculation sup(X)  in X=>Y\n",
    "                    supportPremis = np.array(df.iloc[:,index]==1)\n",
    "                else:\n",
    "                    # for calculation sup(X)  in X=>Y\n",
    "                    supportPremis = supportPremis & np.array(df.iloc[:,index]==1)\n",
    "                    \n",
    "                    \n",
    "            #enter the if (particule[i]==1) for the first time\n",
    "            if(not enter):\n",
    "                # for calculation sup(X=>Y)  in X=>Y\n",
    "                supportRegle = np.array(df.iloc[:,index]==1)\n",
    "                enter=True\n",
    "            else: \n",
    "                # for calculation sup(X=>Y)  in X=>Y\n",
    "                supportRegle =  supportRegle &   np.array(df.iloc[:,index]==1)\n",
    "    \n",
    "    \n",
    "    # after completing the particule evaluation\n",
    "    regle.append((supportRegle==True).sum()/df_size)\n",
    "    premis.append((supportPremis==True).sum()/df_size)\n",
    "    bestParticules.append(particule)\n",
    "print(\"--- %s seconds ---\" % (time.time() - start_time))"
   ]
  },
  {
   "cell_type": "code",
   "execution_count": 16,
   "metadata": {},
   "outputs": [
    {
     "name": "stdout",
     "output_type": "stream",
     "text": [
      "(whole milk,oil,seasonal products,)=> soda, confiance= 0.25\n",
      "(sausage,ketchup,)=> napkins, confiance= 0.3333333333333333\n",
      "(margarine,other vegetables,dog food,)=> rice, confiance= 0.5\n"
     ]
    }
   ],
   "source": [
    "gbest=0\n",
    "gbestfitness=0\n",
    "for i in range(len(regle)):\n",
    "    if(regle[i]!=0 and premis[i]!=0):\n",
    "        if(regle[i]/premis[i] > gbestfitness):\n",
    "            gbestfitness=regle[i]/premis[i]\n",
    "            gbest=i\n",
    "            showRule(bestParticules[gbest],df.columns)\n",
    "            print(\" confiance= {}\".format(gbestfitness))\n",
    "\n",
    "#showRule(bestParticules[gbest],df.columns)\n",
    "#print(\" confiance= {}\".format(gbestfitness))\n"
   ]
  },
  {
   "cell_type": "code",
   "execution_count": 8,
   "metadata": {},
   "outputs": [],
   "source": [
    "def validParticule(particule):\n",
    "    validConclusion=False\n",
    "    validPremis=False\n",
    "    for i in range(0,len(particule),2):\n",
    "        if(particule[i]==1):\n",
    "            #if particule has the conclusion part\n",
    "            if(particule[i+1]==1):\n",
    "                validConclusion=True\n",
    "            #if particule has the premis part\n",
    "            else:\n",
    "                validPremis=True\n",
    "    if(validPremis and validConclusion):\n",
    "        return True\n",
    "        "
   ]
  },
  {
   "cell_type": "code",
   "execution_count": 9,
   "metadata": {},
   "outputs": [],
   "source": [
    "def showRule(particule,columns):\n",
    "    premis=[]\n",
    "    conclusion=[]\n",
    "    for i in range(0,len(particule),2):\n",
    "        if(particule[i]==1):\n",
    "            #if particule has the conclusion part\n",
    "            if(particule[i+1]==1):\n",
    "                conclusion.append(columns[i/2])\n",
    "            #if particule has the premis part\n",
    "            else:\n",
    "                premis.append(columns[i/2])\n",
    "    print('(',end='')          \n",
    "    for pre in premis:\n",
    "        print(pre,end=',')\n",
    "    print(')=>',end=' ')\n",
    "    for con in conclusion:\n",
    "        print(con,end=',')\n",
    "  \n",
    "    \n",
    "    "
   ]
  },
  {
   "cell_type": "code",
   "execution_count": 326,
   "metadata": {},
   "outputs": [
    {
     "data": {
      "text/plain": [
       "9835"
      ]
     },
     "execution_count": 326,
     "metadata": {},
     "output_type": "execute_result"
    }
   ],
   "source": [
    "df.shape[0]"
   ]
  }
 ],
 "metadata": {
  "kernelspec": {
   "display_name": "Python 3",
   "language": "python",
   "name": "python3"
  },
  "language_info": {
   "codemirror_mode": {
    "name": "ipython",
    "version": 3
   },
   "file_extension": ".py",
   "mimetype": "text/x-python",
   "name": "python",
   "nbconvert_exporter": "python",
   "pygments_lexer": "ipython3",
   "version": "3.7.3"
  }
 },
 "nbformat": 4,
 "nbformat_minor": 2
}
